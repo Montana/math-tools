{
 "cells": [
  {
   "cell_type": "markdown",
   "metadata": {},
   "source": [
    "See also: [Sets](Sets)\n",
    "\n",
    "[Define argument]\n",
    "\n",
    "[Define validity of an argument]\n",
    "\n",
    "[Define soundness of an argument]\n",
    "\n",
    "## Boolean Logic Operators\n",
    "\n",
    "[list em out, make sure to include xor]\n",
    "\n",
    "\n",
    "## Propositional Logic\n",
    "\n",
    "$ \\implies $ Implies.\n",
    "\n",
    "\n",
    "## First Order Logic\n",
    "\n",
    "\n",
    "$ \\forall $ This symbol means for all (or sometimes, for every). For example, “∀ squares D, D is a rectangle”.\n",
    "\n",
    "$ \\exists $ This symbol means there exists.  It can actually imply \"there exists... such that\" For example, “∃ a horse”.\n",
    "\n",
    "$ \\nexists $ This symbol means there does not exist. For example, \" $ \\nexists $ a unicorn\". (yet)\n"
   ]
  }
 ],
 "metadata": {
  "language_info": {
   "name": "python"
  },
  "orig_nbformat": 4
 },
 "nbformat": 4,
 "nbformat_minor": 2
}
