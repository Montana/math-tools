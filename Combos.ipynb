{
 "cells": [
  {
   "cell_type": "markdown",
   "metadata": {},
   "source": [
    "# Factorials\n",
    "Mathematicians have decides $0! = 1$, as this allows the following permutation and combination formula to work under then $n=k$ case.\n",
    "\n",
    "# Permutations\n",
    "\n",
    "$$ {}_n P_k = \\frac{n!}{(n-k)!}$$\n",
    "\n",
    "Pretty obvious how we arrive at this.. $(n-k)!$ simply removes the multiplier for the deficit seats.\n",
    "\n",
    "# Combinations\n",
    "Combinations are more restrictive than permutations, because they don't care about order, so you divide off the number of permutations of each combination ($ {}_k P_k = \\frac{k!}{0!} = k! $)\n",
    "\n",
    "$$ {}_n C_k = \\frac{{}_n P_k}{k!} $$\n",
    "\n",
    "Definition of a Combo:\n",
    "\n",
    "$$ {}_n C_k = \\binom{n}{k} = \\frac{n!}{k!(n-k)!} $$\n",
    "\n",
    "[later: sketch out combinations and permutations with repeats]"
   ]
  },
  {
   "cell_type": "code",
   "execution_count": 1,
   "metadata": {},
   "outputs": [
    {
     "name": "stdout",
     "output_type": "stream",
     "text": [
      "120\n",
      "720\n"
     ]
    }
   ],
   "source": [
    "import math\n",
    "\n",
    "print(math.comb(10,3))\n",
    "print(math.perm(10,3))\n",
    "\n",
    "# For getting actual list of permutations/combos, see https://www.geeksforgeeks.org/permutation-and-combination-in-python/"
   ]
  },
  {
   "cell_type": "markdown",
   "metadata": {},
   "source": [
    "# Pascal's Identity\n",
    "\n",
    "$$ {n \\choose k} = {n - 1 \\choose k - 1} + {n - 1 \\choose k} $$\n",
    "\n",
    "## Proof\n",
    "\n",
    "$$\n",
    "\\begin{align}\n",
    "{n - 1 \\choose k - 1} + {n - 1 \\choose k} & = \\frac{(n-1)!}{(k-1)!(n-k)!} +  \\frac{(n-1)!}{k!(n-1-k)!} \\\\ \n",
    "& = {(n-1)!}(\\frac{k}{k!(n-k)!} + \\frac{n-k}{k!(n-k)!}) \\\\\n",
    "& = {(n-1)!}(\\frac{n}{k!(n-k)!}) \\\\ \n",
    "& = \\frac{n!}{k!(n-k)!} = {n \\choose k}  \\quad\\text {Definition of Combo}\n",
    "\\end{align}\n",
    "$$"
   ]
  }
 ],
 "metadata": {
  "interpreter": {
   "hash": "949777d72b0d2535278d3dc13498b2535136f6dfe0678499012e853ee9abcab1"
  },
  "kernelspec": {
   "display_name": "Python 3.9.2 64-bit",
   "name": "python3"
  },
  "language_info": {
   "codemirror_mode": {
    "name": "ipython",
    "version": 3
   },
   "file_extension": ".py",
   "mimetype": "text/x-python",
   "name": "python",
   "nbconvert_exporter": "python",
   "pygments_lexer": "ipython3",
   "version": "3.9.2"
  },
  "orig_nbformat": 4
 },
 "nbformat": 4,
 "nbformat_minor": 2
}
