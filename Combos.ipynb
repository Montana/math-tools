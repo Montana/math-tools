{
 "cells": [
  {
   "cell_type": "markdown",
   "metadata": {},
   "source": [
    "# Combos\n",
    "<a id=\"combo-def\"></a>\n",
    "\n",
    "$$ {n \\choose k} = \\frac{n!}{k!(n-k)!} $$\n",
    "\n",
    "[elaborate more on this]\n",
    "\n",
    "# Pascal's Identity\n",
    "\n",
    "$$ {n \\choose k} = {n - 1 \\choose k - 1} + {n - 1 \\choose k} $$\n",
    "\n",
    "## Proof\n",
    "\n",
    "$$\n",
    "\\begin{align}\n",
    "{n - 1 \\choose k - 1} + {n - 1 \\choose k} & = \\frac{(n-1)!}{(k-1)!(n-k)!} +  \\frac{(n-1)!}{k!(n-1-k)!} \\\\ \n",
    "& = {(n-1)!}(\\frac{k}{k!(n-k)!} + \\frac{n-k}{k!(n-k)!}) \\\\\n",
    "& = {(n-1)!}(\\frac{n}{k!(n-k)!}) \\\\ \n",
    "& = \\frac{n!}{k!(n-k)!} = {n \\choose k}  \\quad\\text {Definition of Combo}\n",
    "\\end{align}\n",
    "$$\n",
    "\n",
    "# Binomial Theorem\n",
    "\n",
    "$$ (a+b)^n = \\sum_{k=0}^{n}\\binom{n}{k}a^{n-k}b^k $$\n",
    "\n",
    "We know that this is true for n = 1, so we can prove it by induction for all positive numbers. So we seek to prove that\n",
    "\n",
    "$$ \n",
    "\\begin{align}\n",
    "& (a+b)^{n+1} = \\sum_{k=0}^{n+1}\\binom{n+1}{k}a^{n+1-k}b^k \\\\\n",
    "& (a + b)(a+b)^n \\\\\n",
    "& (a + b)\\sum_{k=0}^{n}\\binom{n}{k}a^{n-k}b^k \\quad\\text {Induction} \\\\\n",
    "& \\left(\\sum_{k=0}^{n}\\binom{n}{k}a^{n-k + 1}b^k\\right) + \\left(\\sum_{k=0}^{n}\\binom{n}{k}a^{n-k}b^{k+1}\\right) \\\\\n",
    "& \\left(\\binom{n}{0}a^{n+1}b^0 + \\sum_{k=1}^{n}\\binom{n}{k}a^{n-k + 1}b^k\\right) + \\left(\\sum_{k=1}^{n+1}\\binom{n}{k-1}a^{n-k+1}b^{k}\\right) \\\\\n",
    "& \\left(a^{n+1} + \\sum_{k=1}^{n}\\binom{n}{k}a^{n-k + 1}b^k\\right) + \\left(\\binom{n}{n}a^{0}b^{n+1} + \\sum_{k=1}^{n}\\binom{n}{k-1}a^{n-k+1}b^{k}\\right) \\\\\n",
    "& a^{n+1} + b^{n+1} + \\sum_{k=1}^{n}\\binom{n}{k}a^{n-k + 1}b^k + \\sum_{k=1}^{n}\\binom{n}{k-1}a^{n-k+1}b^{k} \\\\\n",
    "& a^{n+1} + b^{n+1} + \\sum_{k=1}^{n}\\binom{n+1}{k}a^{n-k + 1}b^k \\quad\\text {Pascal's Identity} \\\\\n",
    "& \\binom{n+1}{0} a^{n-0+1}b^0 + \\binom{n+1}{n+1}a^{n-(n+1)+1}b^{n+1} + \\sum_{k=1}^{n}\\binom{n+1}{k}a^{n-k + 1}b^k \\\\\n",
    "& \\sum_{k=0}^{n+1}\\binom{n+1}{k}a^{n-k + 1}b^k \\\\\n",
    "\\end{align}\n",
    "$$ \n"
   ]
  }
 ],
 "metadata": {
  "language_info": {
   "name": "python"
  },
  "orig_nbformat": 4
 },
 "nbformat": 4,
 "nbformat_minor": 2
}
