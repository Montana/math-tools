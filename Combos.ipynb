{
 "cells": [
  {
   "cell_type": "markdown",
   "metadata": {},
   "source": [
    "# Combos\n",
    "<a id=\"combo-def\"></a>\n",
    "\n",
    "$$ {n \\choose k} = \\frac{n!}{k!(n-k)!} $$\n",
    "\n",
    "[elaborate more on this]\n",
    "\n",
    "# Pascal's Identity\n",
    "\n",
    "$$ {n \\choose k} = {n - 1 \\choose k - 1} + {n - 1 \\choose k} $$\n",
    "\n",
    "## Proof\n",
    "\n",
    "$$\n",
    "\\begin{align}\n",
    "{n - 1 \\choose k - 1} + {n - 1 \\choose k} & = \\frac{(n-1)!}{(k-1)!(n-k)!} +  \\frac{(n-1)!}{k!(n-1-k)!} \\\\ \n",
    "& = {(n-1)!}(\\frac{k}{k!(n-k)!} + \\frac{n-k}{k!(n-k)!}) \\\\\n",
    "& = {(n-1)!}(\\frac{n}{k!(n-k)!}) \\\\ \n",
    "& = \\frac{n!}{k!(n-k)!} = {n \\choose k}  \\quad\\text {Definition of Combo}\n",
    "\\end{align}\n",
    "$$"
   ]
  }
 ],
 "metadata": {
  "language_info": {
   "name": "python"
  },
  "orig_nbformat": 4
 },
 "nbformat": 4,
 "nbformat_minor": 2
}
