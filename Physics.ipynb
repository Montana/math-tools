{
 "cells": [
  {
   "cell_type": "markdown",
   "metadata": {},
   "source": [
    "# Position, Velocity, and Accelaration as Derivatives\n",
    "\n",
    "Change in Position with respect to time is Velocity.  Change in Velocity with respect to time is Acceleration.  As the double derivative, acceleration is measured in seconds squared, which could be phrased as \"per second per second.\"\n",
    "\n",
    "Speed can be thought of as absolute velocity, not caring which direction your position is moving in. Positive and negative velocity count towards it.  Speed = $|v(t)|$"
   ]
  }
 ],
 "metadata": {
  "language_info": {
   "name": "python"
  },
  "orig_nbformat": 4
 },
 "nbformat": 4,
 "nbformat_minor": 2
}
