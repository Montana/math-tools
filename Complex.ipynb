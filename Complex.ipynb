{
 "cells": [
  {
   "cell_type": "markdown",
   "metadata": {},
   "source": [
    "# Imaginary unit i\n",
    "\n",
    "Definition: $ i = \\sqrt(-1) $\n",
    "\n",
    "# $ i^n $\n",
    "It cycles real interesting like:\n",
    "\n",
    "$$\n",
    "\\begin{align*}\n",
    "i^0 = 1  \\\\\n",
    "i^1 = i \\\\\n",
    "i^2 = -1 \\\\\n",
    "i^3 = -i \\\\\n",
    "\\end{align*}\n",
    "$$\n",
    "\n",
    "It continues on like that in both directions: $ (...1,i,-1,-i...) $\n",
    "\n",
    "# Simplify roots of negative numbers\n",
    "\n",
    "You Cannot seperate out square roots like this when $ a $ and $ b $ are BOTH negative: \n",
    "\n",
    "$$ \\sqrt(ab) = \\sqrt{a}\\sqrt{b} $$\n",
    "\n",
    "The reason for this is that that heuristic (more generally $ (ab)^n = a^nb^n $) doesn't hold for complex numbers.  Speifically..\n",
    "\n",
    "# i as the principal root of -1\n",
    "\n",
    "https://youtu.be/rYG1D5lUE4I\n",
    "\n",
    "the Square root function (indicated in notation by the \"radical\" symbol) has a different input range implied when there's a negative number.  It's like a different function, so can't joined or split to/from a regular square root.\n",
    "\n",
    "We can only do $ \\sqrt{-x} = i\\sqrt{x} $ when $ x > 0 $.  This ensures the complex radical only deals with that stuff, and the principal root is taken for positive numbers. \n",
    "\n",
    "# Complex numbers\n",
    "\n",
    "Real and imaginary parts.\n",
    "\n",
    "$ z = 5 + 3i $\n",
    "\n",
    "Visualize on the complex plane, with y axis as imaginary and x axis as real.  R and C are drawn like this for the sets of Real and Complex numbers.  There's not really a standard symbol for just Imaginary numbers, because people are usually either Real of full Complex ya dig.  https://math.stackexchange.com/questions/2261438/what-is-the-symbol-for-imaginary-numbers\n",
    "\n",
    "$$ \\mathbb{R} $$\n",
    "$$ \\mathbb{C} $$\n",
    "\n",
    "# Finding complex roots of a quadratic\n",
    "\n",
    "You want to use the quadratic formula here.  And note that you can multiply shit arbitrarily to get the type of equations you want \n"
   ]
  }
 ],
 "metadata": {
  "language_info": {
   "name": "python"
  },
  "orig_nbformat": 4
 },
 "nbformat": 4,
 "nbformat_minor": 2
}
