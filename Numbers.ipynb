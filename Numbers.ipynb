{
 "cells": [
  {
   "cell_type": "markdown",
   "metadata": {},
   "source": [
    "# Euclidean Algorithm\n",
    "\n",
    "https://en.wikipedia.org/wiki/Euclidean_algorithm"
   ]
  },
  {
   "cell_type": "code",
   "execution_count": 38,
   "metadata": {},
   "outputs": [
    {
     "name": "stdout",
     "output_type": "stream",
     "text": [
      "1\n"
     ]
    }
   ],
   "source": [
    "# Takes two ints and returns greatest common denominator with Euclidean Algorithm\n",
    "def gcd(a, b):\n",
    "    # Max handles negative numbers\n",
    "    if max(a,-a) < b:\n",
    "        # Ensure a is gte than b\n",
    "        return gcd(b, a) \n",
    "    if b == 0: # Covers (0,0) as 0\n",
    "        return max(a, -a)\n",
    "    \n",
    "    return gcd(b, a % b)\n",
    "\n",
    "print(gcd(199, 6673))"
   ]
  },
  {
   "cell_type": "markdown",
   "metadata": {},
   "source": [
    "# Extended Euclidean Algorithm\n",
    "\n",
    "https://en.wikipedia.org/wiki/Extended_Euclidean_algorithm"
   ]
  },
  {
   "cell_type": "code",
   "execution_count": 42,
   "metadata": {},
   "outputs": [
    {
     "name": "stdout",
     "output_type": "stream",
     "text": [
      "(1, (1, -1))\n"
     ]
    }
   ],
   "source": [
    "# Takes two ints, and returns their GCD and Bezout Coefficients with Extended Euclidean Algorithm\n",
    "def extended_euclid(a,b):\n",
    "    a, b = abs(a), abs(b)\n",
    "    if a < b:\n",
    "        return extended_euclid(b,a)\n",
    "\n",
    "    old_r, r = a, b\n",
    "    old_s, s = 1, 0\n",
    "    old_t, t = 0, 1\n",
    "    \n",
    "    while (r != 0):\n",
    "        quotient = old_r // r\n",
    "        old_r, r = r, (old_r - (quotient * r))\n",
    "        old_s, s = s, (old_s - (quotient * s))\n",
    "        old_t, t = t, (old_t - (quotient * t))\n",
    "    \n",
    "    return old_r, (old_s, old_t)\n",
    "\n",
    "print(extended_euclid(5, 6))\n",
    "    \n",
    "\n"
   ]
  }
 ],
 "metadata": {
  "interpreter": {
   "hash": "949777d72b0d2535278d3dc13498b2535136f6dfe0678499012e853ee9abcab1"
  },
  "kernelspec": {
   "display_name": "Python 3.9.2 64-bit",
   "language": "python",
   "name": "python3"
  },
  "language_info": {
   "codemirror_mode": {
    "name": "ipython",
    "version": 3
   },
   "file_extension": ".py",
   "mimetype": "text/x-python",
   "name": "python",
   "nbconvert_exporter": "python",
   "pygments_lexer": "ipython3",
   "version": "3.9.2"
  },
  "orig_nbformat": 4
 },
 "nbformat": 4,
 "nbformat_minor": 2
}
