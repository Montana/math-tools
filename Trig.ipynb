{
 "cells": [
  {
   "cell_type": "markdown",
   "metadata": {},
   "source": [
    "# Trig Functions\n",
    "\n",
    "These are used in Right Triangles, but for non-right triangles you can construct right triangles to take advantage of trig functions..\n",
    "\n",
    "$$\n",
    "\\begin{align*}\n",
    "& \\sin{\\theta} = \\frac{opposite}{hypotenuse} \\\\\n",
    "& \\cos{\\theta} = \\frac{adjacent}{hypotenuse} \\\\\n",
    "& \\tan{\\theta} = \\frac{opposite}{adjacent}\n",
    "\\end{align*}\n",
    "$$"
   ]
  },
  {
   "cell_type": "code",
   "execution_count": 36,
   "metadata": {},
   "outputs": [
    {
     "name": "stdout",
     "output_type": "stream",
     "text": [
      "0.1411200080598672\n",
      "-0.9899924966004454\n",
      "-0.1425465430742778\n",
      "0.7071067811865475\n"
     ]
    }
   ],
   "source": [
    "import math\n",
    "\n",
    "# Radians by default\n",
    "print(math.sin(3))\n",
    "print(math.cos(3))\n",
    "print(math.tan(3))\n",
    "\n",
    "# For getting angles instead of radians\n",
    "print(math.sin(math.radians(45)))"
   ]
  },
  {
   "cell_type": "markdown",
   "metadata": {},
   "source": [
    "## Inverse functions\n",
    "\n",
    "To go from ratio to $ \\theta $ use inverse trig functions which also have arc- type names.\n",
    "\n",
    "$$\n",
    "\\begin{align}\n",
    "& \\sin^{-1}(\\frac{opposite}{hypotenuse}) = \\arcsin(\\frac{opposite}{hypotenuse}) = \\theta \\\\\n",
    "& \\cos^{-1}(\\frac{adjacent}{hypotenuse}) = \\arccos(\\frac{adjacent}{hypotenuse}) = \\theta \\\\\n",
    "& \\tan^{-1}(\\frac{opposite}{adjacent}) = \\arctan(\\frac{opposite}{adjacent}) = \\theta \\\\\n",
    "\\end{align}\n",
    "$$"
   ]
  },
  {
   "cell_type": "code",
   "execution_count": 37,
   "metadata": {},
   "outputs": [
    {
     "name": "stdout",
     "output_type": "stream",
     "text": [
      "1.5707963267948966\n",
      "0.0\n",
      "0.7853981633974483\n",
      "45.0\n"
     ]
    }
   ],
   "source": [
    "print(math.asin(1))\n",
    "print(math.acos(1))\n",
    "print(math.atan(1))\n",
    "\n",
    "# For getting angles instead of radians\n",
    "\n",
    "print(math.degrees(math.atan(1)))"
   ]
  },
  {
   "cell_type": "markdown",
   "metadata": {},
   "source": [
    "## Reciprocal Functions\n",
    "\n",
    "Just switch up those fractions.\n",
    "\n",
    "**Cosecant** is the reciprocal of Sine. $ \\csc{\\theta} = \\frac{hypotenuse}{opposite} $\n",
    "**Secant** is the reciprocal of the Cosine.  $ \\sec{\\theta} = \\frac{hypotenuse}{adjacent} $\n",
    "**Cotangent** is the reciprocal of the Tangent.  $ \\sec{\\theta} = \\frac{adjacent}{opposite} $"
   ]
  },
  {
   "cell_type": "code",
   "execution_count": 38,
   "metadata": {},
   "outputs": [
    {
     "name": "stdout",
     "output_type": "stream",
     "text": [
      "7.086167395737187\n",
      "-1.0101086659079939\n",
      "-7.015252551434534\n"
     ]
    }
   ],
   "source": [
    "print(1 / math.sin(3)) # Cosecant. Way easier than getting a lib for a sugar function.  Though if I want to preserve symbolic manipulation I should get sympy.\n",
    "print(1 / math.cos(3)) # Secant\n",
    "print(1 / math.tan(3)) # Cotangent"
   ]
  },
  {
   "cell_type": "markdown",
   "metadata": {},
   "source": [
    "# Pythagorean Trig Identity\n",
    "\n",
    "It's pretty trivial from the unit circle or the definition of cos/sin to see that $ (\\sin(\\theta))^2 + (\\cos(\\theta))^2  = 1  $\n",
    "\n",
    "$$ \n",
    "\\begin{align*}\n",
    "\\sin(\\theta))^2 + (\\cos(\\theta))^2 \\\\\n",
    "(\\frac{b}{c})^2 + (\\frac{a}{c})^2 \\\\\n",
    "\\frac{b^2 + a^2}{c^2} \\\\\n",
    "\\frac{c^2}{c^2} \\\\\n",
    "(\\sin(\\theta))^2 + (\\cos(\\theta))^2  = 1 \\\\\n",
    "\\end{align*}\n",
    "$$\n",
    "\n",
    "# Sine and Cosine of Complimentary Angles\n",
    "\n",
    "Again, rather trivial to derive that $ \\sin(\\theta) = \\cos(90 - \\theta) $ from the ratio definitions:"
   ]
  },
  {
   "cell_type": "code",
   "execution_count": 39,
   "metadata": {},
   "outputs": [
    {
     "data": {
      "image/png": "[encoded data removed]",
      "text/plain": [
       "<Figure size 432x288 with 1 Axes>"
      ]
     },
     "metadata": {
      "needs_background": "light"
     },
     "output_type": "display_data"
    }
   ],
   "source": [
    "from matplotlib import patches\n",
    "import matplotlib.pyplot as plt\n",
    "\n",
    "# Conditional clone boilerplate\n",
    "try:\n",
    "  import google.colab\n",
    "  import sys\n",
    "  from os import path\n",
    "  # We are in colab\n",
    "\n",
    "  if not path.isdir('math-tools'):\n",
    "    !git clone https://github.com/bsgreenb/math-tools.git\n",
    "    sys.path.append('math-tools')\n",
    "except:\n",
    "  pass\n",
    "\n",
    "from annotation import label\n",
    "from angles import AngleAnnotation\n",
    "\n",
    "# x=np.array([0,4,4,0])\n",
    "# y=np.array([0,0,3,0])\n",
    "\n",
    "point_a = (0,0)\n",
    "point_b = (2, 3)\n",
    "point_c = (2, 0)\n",
    "\n",
    "fig, ax = plt.subplots()\n",
    "\n",
    "triangle = patches.Polygon([point_a, point_b, point_c], ec=\"black\", fc=[0,0,0,0])\n",
    "ax.add_patch(triangle)\n",
    "\n",
    "# Label sides\n",
    "offset = 10\n",
    "label(ax, \"a\", (((point_b[0] + point_c[0]) / 2), (point_b[1] /2)), (offset, 0))\n",
    "label(ax, \"b\", (point_b[0] /2, 0), (offset * 2, -2 * offset))\n",
    "label(ax, \"c\", (point_b[0] /2, point_b[1] /2), (-offset, offset))\n",
    "\n",
    "# Label angles\n",
    "angle_a = AngleAnnotation(point_a, point_c, point_b, ax=ax, text=r\"$\\theta$\", text_kw={\"color\": \"black\"})\n",
    "angle_b = AngleAnnotation(point_b, point_a, point_c, ax=ax, text=r\"$90 - \\theta$\", text_kw={\"color\": \"black\"}, textposition=\"outside\")\n",
    "\n",
    "## Label Right Angle\n",
    "right = patches.Rectangle((point_b[0],0),-0.15,0.2, fc=[0,0,0,0], ec=\"black\", zorder=0, lw=.7)\n",
    "ax.add_patch(right)\n",
    "\n",
    "ax.set_ylim(0, 3)\n",
    "ax.set_xlim(0,3)\n",
    "\n",
    "ax.axis('off')\n",
    "plt.show()"
   ]
  },
  {
   "cell_type": "markdown",
   "metadata": {},
   "source": [
    "$$\n",
    "\\begin{align*}\n",
    "\\sin(\\theta) = \\frac{a}{c} \\\\\n",
    "\\cos(90 - \\theta) = \\frac{a}{c} \\\\\n",
    "\\sin(\\theta) = \\cos(90 - \\theta)\n",
    "\\end{align*}\n",
    "$$"
   ]
  },
  {
   "cell_type": "markdown",
   "metadata": {},
   "source": [
    "# Non-Right Triangles\n",
    "\n",
    "## Law of Sines"
   ]
  },
  {
   "cell_type": "code",
   "execution_count": 40,
   "metadata": {},
   "outputs": [
    {
     "data": {
      "image/png": "[encoded data removed]",
      "text/plain": [
       "<Figure size 432x288 with 1 Axes>"
      ]
     },
     "metadata": {
      "needs_background": "light"
     },
     "output_type": "display_data"
    }
   ],
   "source": [
    "point_a = (0,0)\n",
    "point_b = (2, 3)\n",
    "point_c = (5, 0)\n",
    "\n",
    "fig, ax = plt.subplots()\n",
    "\n",
    "triangle = patches.Polygon([point_a, point_b, point_c], ec=\"black\", fc=[0,0,0,0])\n",
    "ax.add_patch(triangle)\n",
    "plt.plot((point_b[0], point_b[0]), (point_b[1], 0), ':', color=\"black\") # altitude to create two right triangles\n",
    "\n",
    "# Label sides\n",
    "offset = 10\n",
    "label(ax, \"a\", (((point_b[0] + point_c[0]) / 2), (point_b[1] /2)), (offset, 0))\n",
    "label(ax, \"b\", (point_b[0], 0), (offset * 2, -2 * offset))\n",
    "label(ax, \"c\", (point_b[0] /2, point_b[1] /2), (-offset, offset))\n",
    "label(ax, \"x\", (point_b[0], point_b[1] /2), (offset /2, -offset))\n",
    "\n",
    "# Label angles\n",
    "angle_a = AngleAnnotation(point_a, point_c, point_b, ax=ax, text=\"A\", text_kw={\"color\": \"black\", \"fontsize\": 15}, color=[0,0,0,0])\n",
    "angle_b = AngleAnnotation(point_b, point_a, point_c, ax=ax, text=\"B\", text_kw={\"color\": \"black\", \"fontsize\": 15}, color=[0,0,0,0])\n",
    "angle_c = AngleAnnotation(point_c, point_b, point_a, ax=ax, text=\"C\", text_kw={\"color\": \"black\", \"fontsize\": 15}, color=[0,0,0,0])\n",
    "\n",
    "## Label Right Angle\n",
    "right = patches.Rectangle((point_b[0],0),0.2,0.2, fc=[0,0,0,0], ec=\"black\", zorder=0, lw=.7)\n",
    "ax.add_patch(right)\n",
    "\n",
    "ax.set_ylim(0, 3)\n",
    "ax.set_xlim(0,5)\n",
    "\n",
    "ax.axis('off')\n",
    "plt.show()\n",
    "\n"
   ]
  },
  {
   "cell_type": "markdown",
   "metadata": {},
   "source": [
    "We can derive the Law of Sines from these two right triangles and our trig function definitions. So we get:\n",
    "\n",
    "$$\n",
    "\\frac{\\sin(A)}{a} = \\frac{\\sin(B)}{b} = \\frac{\\sin(C)}{c}\n",
    "$$\n",
    "\n",
    "Just note that to get the equivalence with B rather than C we'd just draw the altitude x from diff point."
   ]
  },
  {
   "cell_type": "markdown",
   "metadata": {},
   "source": [
    "# The Unit Circle"
   ]
  },
  {
   "cell_type": "code",
   "execution_count": 77,
   "metadata": {},
   "outputs": [
    {
     "data": {
      "image/png": "[encoded data removed]",
      "text/plain": [
       "<Figure size 432x288 with 1 Axes>"
      ]
     },
     "metadata": {
      "needs_background": "light"
     },
     "output_type": "display_data"
    }
   ],
   "source": [
    "import numpy as np\n",
    "\n",
    "# Plot Circle\n",
    "# https://stackoverflow.com/a/44050984/378622 \n",
    "\n",
    "r = 1\n",
    "x = np.linspace(-r,r,1000)\n",
    "# Solving for y from the standard circle equation which gives a plus/minus..\n",
    "y = np.sqrt(-x**2+r**2)\n",
    "plt.plot(x, y, \"black\")\n",
    "plt.plot(x, -y, \"black\")\n",
    "plt.plot((0), (0), marker='o', color=\"black\", markersize=4, zorder=5)\n",
    "\n",
    "# Plot linez\n",
    "\n",
    "circle_x = 0.6\n",
    "circle_y = np.sqrt(r**2 - circle_x**2)\n",
    "\n",
    "plt.plot((0,r), (0,0)) # radius line\n",
    "plt.plot((0,circle_x), (0, circle_y)) # triangle x line\n",
    "plt.plot((circle_x,circle_x), (0, circle_y)) #triangle y line\n",
    "\n",
    "\n",
    "ax = plt.gca()\n",
    "# Label theta\n",
    "angle_1 = AngleAnnotation((0,0), (circle_x, 0),(circle_x, circle_y), ax=ax, size=40, text=r\"$\\theta$\", text_kw={\"xytext\": (0,1)}, color=\"black\")\n",
    "\n",
    "# Plot right triangle\n",
    "\n",
    "right1 = patches.Rectangle((circle_x,0),-0.1,0.1, fc=[0,0,0,0], ec=\"black\", zorder=0, lw=.7)\n",
    "ax.add_patch(right1)\n",
    "\n",
    "ax.set_aspect('equal')\n",
    "\n",
    "plt.show()"
   ]
  }
 ],
 "metadata": {
  "interpreter": {
   "hash": "949777d72b0d2535278d3dc13498b2535136f6dfe0678499012e853ee9abcab1"
  },
  "kernelspec": {
   "display_name": "Python 3.9.2 64-bit",
   "name": "python3"
  },
  "language_info": {
   "codemirror_mode": {
    "name": "ipython",
    "version": 3
   },
   "file_extension": ".py",
   "mimetype": "text/x-python",
   "name": "python",
   "nbconvert_exporter": "python",
   "pygments_lexer": "ipython3",
   "version": "3.9.2"
  },
  "orig_nbformat": 4
 },
 "nbformat": 4,
 "nbformat_minor": 2
}
