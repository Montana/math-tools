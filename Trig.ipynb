{
 "cells": [
  {
   "cell_type": "markdown",
   "metadata": {},
   "source": [
    "# Definitions\n",
    "\n",
    "$$\n",
    "\\begin{align}\n",
    "& \\sin{\\theta} = \\frac{opposite}{hypotenuse} \\\\\n",
    "& \\cos{\\theta} = \\frac{adjacent}{hypotenuse} \\\\\n",
    "& \\tan{\\theta} = \\frac{opposite}{adjacent}\n",
    "\\end{align}\n",
    "$$\n",
    "\n",
    "These are used in Right Triangles, but for non-right triangles you can construct right triangles to take advantage of trig functions.."
   ]
  },
  {
   "cell_type": "code",
   "execution_count": null,
   "metadata": {},
   "outputs": [],
   "source": [
    "import math\n",
    "\n",
    "# Radians by default\n",
    "print(math.sin(3))\n",
    "print(math.cos(3))\n",
    "print(math.tan(3))\n",
    "\n",
    "# For getting angles instead of radians\n",
    "print(math.sin(math.radians(45)))"
   ]
  },
  {
   "cell_type": "markdown",
   "metadata": {},
   "source": [
    "# Inverse functions\n",
    "\n",
    "To go from ratio to $ \\theta $ use inverse trig functions which also have arc- type names.\n",
    "\n",
    "$$\n",
    "\\begin{align}\n",
    "& \\sin^{-1}(\\frac{opposite}{hypotenuse}) = \\arcsin(\\frac{opposite}{hypotenuse}) = \\theta \\\\\n",
    "& \\cos^{-1}(\\frac{adjacent}{hypotenuse}) = \\arccos(\\frac{adjacent}{hypotenuse}) = \\theta \\\\\n",
    "& \\tan^{-1}(\\frac{opposite}{adjacent}) = \\arctan(\\frac{opposite}{adjacent}) = \\theta \\\\\n",
    "\\end{align}\n",
    "$$"
   ]
  },
  {
   "cell_type": "code",
   "execution_count": null,
   "metadata": {},
   "outputs": [],
   "source": [
    "print(math.asin(1))\n",
    "print(math.acos(1))\n",
    "print(math.atan(1))\n",
    "\n",
    "# For getting angles instead of radians\n",
    "\n",
    "print(math.degrees(math.atan(1)))"
   ]
  },
  {
   "cell_type": "markdown",
   "metadata": {},
   "source": [
    "# Law of Sines"
   ]
  },
  {
   "cell_type": "code",
   "execution_count": 79,
   "metadata": {},
   "outputs": [
    {
     "data": {
      "image/png": "[encoded data removed]",
      "text/plain": [
       "<Figure size 432x288 with 1 Axes>"
      ]
     },
     "metadata": {
      "needs_background": "light"
     },
     "output_type": "display_data"
    }
   ],
   "source": [
    "from matplotlib import patches\n",
    "import matplotlib.pyplot as plt\n",
    "\n",
    "# Conditional clone boilerplate\n",
    "try:\n",
    "  import google.colab\n",
    "  import sys\n",
    "  from os import path\n",
    "  # We are in colab\n",
    "\n",
    "  if not path.isdir('math-tools'):\n",
    "    !git clone https://github.com/bsgreenb/math-tools.git\n",
    "    sys.path.append('math-tools')\n",
    "except:\n",
    "  pass\n",
    "\n",
    "from annotation import label\n",
    "from angles import AngleAnnotation\n",
    "\n",
    "point_a = (0,0)\n",
    "point_b = (2, 3)\n",
    "point_c = (5, 0)\n",
    "\n",
    "fig, ax = plt.subplots()\n",
    "\n",
    "triangle = patches.Polygon([point_a, point_b, point_c], ec=\"black\", fc=[0,0,0,0])\n",
    "ax.add_patch(triangle)\n",
    "plt.plot((point_b[0], point_b[0]), (point_b[1], 0), ':', color=\"black\") # altitude to create two right triangles\n",
    "\n",
    "# Label sides\n",
    "offset = 10\n",
    "label(ax, \"a\", (((point_b[0] + point_c[0]) / 2), (point_b[1] /2)), (offset, 0))\n",
    "label(ax, \"b\", (point_b[0], 0), (offset * 2, -2 * offset))\n",
    "label(ax, \"c\", (point_b[0] /2, point_b[1] /2), (-offset, offset))\n",
    "label(ax, \"x\", (point_b[0], point_b[1] /2), (offset /2, -offset))\n",
    "\n",
    "# Label angles\n",
    "angle_a = AngleAnnotation(point_a, point_c, point_b, ax=ax, text=\"A\", text_kw={\"color\": \"black\", \"fontsize\": 15}, color=[0,0,0,0])\n",
    "angle_b = AngleAnnotation(point_b, point_a, point_c, ax=ax, text=\"B\", text_kw={\"color\": \"black\", \"fontsize\": 15}, color=[0,0,0,0])\n",
    "angle_c = AngleAnnotation(point_c, point_b, point_a, ax=ax, text=\"C\", text_kw={\"color\": \"black\", \"fontsize\": 15}, color=[0,0,0,0])\n",
    "\n",
    "## Label Right Angle\n",
    "right = patches.Rectangle((point_b[0],0),0.2,0.2, fc=[0,0,0,0], ec=\"black\", zorder=0, lw=.7)\n",
    "ax.add_patch(right)\n",
    "\n",
    "ax.set_ylim(0, 3)\n",
    "ax.set_xlim(0,5)\n",
    "\n",
    "ax.axis('off')\n",
    "plt.show()\n",
    "\n"
   ]
  },
  {
   "cell_type": "markdown",
   "metadata": {},
   "source": [
    "We can derive the Law of Sines from these two right triangles and our trig function definitions. So we get:\n",
    "\n",
    "$$\n",
    "\\frac{\\sin(A)}{a} = \\frac{\\sin(B)}{b} = \\frac{\\sin(C)}{c}\n",
    "$$\n",
    "\n",
    "Just note that to get the equivalence with B rather than C we'd just draw the altitude x from diff point."
   ]
  }
 ],
 "metadata": {
  "interpreter": {
   "hash": "949777d72b0d2535278d3dc13498b2535136f6dfe0678499012e853ee9abcab1"
  },
  "kernelspec": {
   "display_name": "Python 3.9.2 64-bit",
   "name": "python3"
  },
  "language_info": {
   "codemirror_mode": {
    "name": "ipython",
    "version": 3
   },
   "file_extension": ".py",
   "mimetype": "text/x-python",
   "name": "python",
   "nbconvert_exporter": "python",
   "pygments_lexer": "ipython3",
   "version": "3.9.2"
  },
  "orig_nbformat": 4
 },
 "nbformat": 4,
 "nbformat_minor": 2
}
