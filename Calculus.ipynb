{
  "cells": [
    {
      "cell_type": "markdown",
      "metadata": {
        "colab_type": "text",
        "id": "view-in-github"
      },
      "source": [
        "<a href=\"https://colab.research.google.com/github/bsgreenb/math-tools/blob/bg-limit-property-proofs/Calculus.ipynb\" target=\"_parent\"><img src=\"https://colab.research.google.com/assets/colab-badge.svg\" alt=\"Open In Colab\"/></a>"
      ]
    },
    {
      "cell_type": "markdown",
      "metadata": {
        "id": "90uOwIG4e31U"
      },
      "source": [
        "# Limits\n",
        "\n",
        "Limit exists if limits from both sides exist:\n",
        "\n",
        "$$\n",
        "\\lim_{x\\to{a}}f(x) \\text{ exists if} \\lim_{x\\to{a^-}}f(x) = \\lim_{x\\to{a^+}}f(x) \n",
        "$$\n",
        "\n",
        "A limit cannot equal infinity (_undefined_).  $0/0$ is _indeterminate_ meaning infinite solutions. Indeterminate may turn out to be tractable, undefined cannot be.\n",
        "\n",
        "Keep in mind that when you rearrange a limit equation, you don't remove the discontinuity at the point when you remove the 0 denominator through cancelling out.. It's still undefined at that point.\n"
      ]
    },
    {
      "cell_type": "markdown",
      "metadata": {
        "id": "mT5YfEB7kqe7"
      },
      "source": [
        "\n",
        "## Epsilon Delta Definition of a Limit\n",
        "Suppose that we have a function\n",
        "$ f: \\mathbb{R} \\rightarrow \\mathbb{R} $, and c, L $\\in \\mathbb{R}$.  Then the limit \n",
        "$$ \\lim_{x\\to c}f(x) = L $$ \n",
        "\n",
        "means for any real $\\epsilon > 0$, there exists a $\\delta > 0$ such that for any real $x$, $0 < |x - c|< \\delta$ implies $|f(x) - L|<\\epsilon$. Or in pure logic:\n",
        "\n",
        "$$\n",
        "\\forall \\epsilon \\in \\mathbb{R} > 0 ~\\exists \\delta \\in \\mathbb{R} > 0[\\forall x \\in \\mathbb{R} ~0 < |x-c| < \\delta \\rightarrow |f(x) - L| < \\epsilon]\n",
        "$$\n"
      ]
    },
    {
      "cell_type": "markdown",
      "metadata": {
        "id": "RAlZiX9Bkqe7"
      },
      "source": [
        "### Epsilon Delta Definition of One-Sided Limits\n",
        "The limit from the left,\n",
        "$$\n",
        "\\lim_{x\\to{c^-}}f(x) = L\n",
        "$$\n",
        "means for any real $\\epsilon > 0$, there exists a $\\delta > 0$ such that for any real $x$, $0 < (c - x)< \\delta$ implies $|f(x) - L|< \\epsilon$.\n",
        "\n",
        "The limit from the right,\n",
        "$$\n",
        "\\lim_{x\\to{c^+}}f(x) = L\n",
        "$$\n",
        "means for any real $\\epsilon > 0$, there exists a $\\delta > 0$ such that for any real $x$, $ 0 < (x - c)< \\delta$ implies $|f(x) - L|< \\epsilon$."
      ]
    },
    {
      "cell_type": "markdown",
      "metadata": {
        "id": "ggeCsGzqkqe8"
      },
      "source": [
        "## Limit Properties\n",
        "\n",
        "Assume $\\lim \\limits_{x \\to a} f(x) = K$ and $\\lim \\limits_{x \\to a} f( x ) = L$.\n",
        "\n",
        "**Constant Function Property**: \n",
        "\n",
        "$$ \\lim_{x\\to a}[c] = c $$\n",
        "\n",
        "**Constant Multiple Property**:\n",
        "\n",
        "$$ \\lim_{x\\to a}[cf(x)] = c\\lim_{x\\to a}f(x) =cK $$\n",
        "\n",
        "**Limit Sum Property**:\n",
        "\n",
        "$$ \\lim_{x\\to a}[f(x) + g(x)] = \\lim_{x\\to a}f(x) + \\lim_{x\\to a}g(x) = K + L $$\n",
        "\n",
        "**Limit Product Property**:\n",
        "\n",
        "$$ \\lim_{x\\to a}[f(x)\\cdot g(x)] = \\lim_{x\\to a}f(x) \\cdot \\lim_{x\\to a}g(x) = KL $$\n",
        "\n",
        "**Limit Quotient Property**:\n",
        "\n",
        "$$ \\lim_{x\\to a}\\frac{f(x)}{g(x)} = \\frac{\\lim\\limits_{x\\to a}f(x)}{\\lim\\limits_{x\\to a}g(x)} = \\frac{K}{L} \\quad\\text {provided $L=\\lim\\limits_{x\\to a}g(x) \\neq 0$}\n",
        " $$\n",
        "\n",
        "**Limit Exponent Property**:\n",
        "\n",
        "$$ \\lim_{x\\to a}[f(x)]^n = [\\lim_{x\\to a}f(x)]^n = K^n \\quad\\text{where $n \\in \\mathbb{R}$}$$ \n",
        "\n",
        "In my notebooks, I proved these with epsilon delta using [this resource](https://tutorial.math.lamar.edu/classes/calci/limitproofs.aspx) as a guide.  Note that it only proves the exponent property is only proven for natural numbers.\n",
        "\n",
        "Note that a composite limit might exist even if its constituents don't after applying properties above."
      ]
    },
    {
      "cell_type": "markdown",
      "metadata": {
        "id": "dmiyBNutkqe-"
      },
      "source": [
        "## Limit of Composite function\n",
        "\n",
        "$$\n",
        "\\lim_{x\\to a} f(g(x)) = f(\\lim_{x\\to a}g(x))\n",
        "$$\n",
        "Conditions the limit on right hand side must exist, f must be continuous at g (must be able to have the f(right side))\n",
        "only if \n",
        "\n",
        "\n",
        "\n",
        "^^ Basically all of these properties act in the way we'd naturally want/expect.\n",
        "\n",
        "[Prove the propertays]\n"
      ]
    },
    {
      "cell_type": "markdown",
      "metadata": {
        "id": "hLai7qNXkqe-"
      },
      "source": [
        "\n",
        "## Strategy for Limits\n",
        "- Solve at the point f(x) if you can\n",
        "- Only continue if it's indeterminate.  If it's b/0 and b isn't 0, proly not worth continuing.\n",
        "- Solve indeterminate with either factoring, or multiplying by conjugate, or by trig substitution.\n",
        "\n",
        "There's more complex strategy to follows, as we haven't dealt with some special values yet, or even broached differentiation.  Will likely update this section later.\n",
        "\n",
        "This summarizes this basic view: https://www.youtube.com/watch?v=ZaLw1cunN3s\n",
        "\n"
      ]
    },
    {
      "cell_type": "markdown",
      "metadata": {
        "id": "6mamXnJRkqe_"
      },
      "source": [
        "\n",
        "## The Squeeze Theorem\n",
        "Aka the Sandwich Theorem.\n",
        "\n",
        "**Squeeze Theorem**: Suppose that $$ f(x) \\leq g(x) \\leq h(x)$$ for all $x$ in some interval around $c$, with the possible exclusion of $c$ itself. Also suppose that $$ \\lim_{x\\to c} f(x) = L = \\lim_{x\\to c} h(x). $$ Then $$\\lim_{x\\to c} g(x) = L.$$\n",
        "\n",
        "_Proof_: We want to prove $\\lim\\limits_{x\\to c} g(x) = L$ given the premises above it.  Let $\\epsilon$ be any real number more than $0$, and let $x$ be any real number.  By the definition of a limit,\n",
        "\n",
        "$$ \\lim_{x\\to c}f(x) = L$$\n",
        "\n",
        "means there exists a a $\\delta_f$ such that,\n",
        "\n",
        "$$ \n",
        "\\begin{align}\n",
        "0 < |x-c| < \\delta_f &\\rightarrow |f(x) - L| < \\epsilon  \\\\\n",
        "0 < |x-c| < \\delta_f &\\rightarrow -\\epsilon < f(x) - L < \\epsilon. \\tag{1}\n",
        "\\end{align}\n",
        "$$\n",
        "\n",
        "And \n",
        "\n",
        "$$ \\lim_{x\\to c}h(x) = L$$\n",
        "\n",
        "means there exists a a $\\delta_h$ such that,\n",
        "\n",
        "$$\n",
        "\\begin{align}\n",
        "0 < |x-c| < \\delta_h &\\rightarrow |h(x) - L| < \\epsilon \\\\\n",
        "0 < |x-c| < \\delta_h &\\rightarrow -\\epsilon < h(x) - L < \\epsilon. \\tag{2}\n",
        "\\end{align}\n",
        "$$\n",
        "\n",
        "The open interval around $c$, with the possible exclusion of $c$ itself, can be described with some $\\delta_g$, such that\n",
        "\n",
        "$$ \n",
        "\\begin{align}\n",
        "0 < |x-c| < \\delta_g &\\rightarrow f(x) \\leq g(x) \\leq h(x) \\\\\n",
        "0 < |x-c| < \\delta_g &\\rightarrow f(x) - L \\leq g(x) - L \\leq h(x) - L. \\tag{3}\\\\\n",
        "\\end{align}\n",
        "$$\n",
        "\n",
        "Let $\\delta$ be the minimum of $\\delta_f$, $\\delta_h$, and $\\delta_g$.  Then by the transitivity of inequality, we can substitute $\\delta$ in for the previous deltas in (1), (2), and (3).  So with our $\\delta > 0$ we have:\n",
        "\n",
        "$$\n",
        "\\begin{aligned}\n",
        "0 <|x-c| < \\delta \\rightarrow& -\\epsilon < f(x) - L < \\epsilon, \\\\\n",
        "& -\\epsilon < h(x) - L < \\epsilon, \\\\\n",
        "& f(x) - L \\leq g(x) - L \\leq h(x) - L \\\\\n",
        "0 < |x-c| < \\delta \\rightarrow& -\\epsilon < g(x) - L < \\epsilon\n",
        "\\end{aligned}\n",
        "$$\n",
        "\n",
        "So by the definition of a limit:\n",
        "\n",
        "$$ \\lim_{x\\to c} g(x) = L. $$"
      ]
    },
    {
      "cell_type": "markdown",
      "metadata": {
        "id": "S4fBrNzlkqfA"
      },
      "source": [
        "\n",
        "## Trig Limits\n",
        "Using idenitties can allow you to express multiple parts as something simpler, e.g. using Pythagorean Trig limit you can get $\\cos^2$ or $\\sin^2$ in terms of each other.  Basically the strategy here as elsewhere in algebra is to generate cancellable (which often, but not always means similar) terms.\n",
        "\n",
        "# Defining $e$\n",
        "\n",
        "$$ \n",
        "\\lim_{n\\to\\infty} (1 + \\frac{1}{n})\n",
        "$$\n",
        "\n",
        "[cover ln facts as needed]\n",
        "\n"
      ]
    },
    {
      "cell_type": "markdown",
      "metadata": {
        "id": "ri9S0znqkqfB"
      },
      "source": [
        "# Derivatives\n",
        "\n",
        "## Definition as a function of x\n",
        "$$ f'(x) = \\lim_{\\Delta x\\to0} \\frac{f(x + \\Delta x) - f(x)}{\\Delta x} $$\n",
        "## Definition at a specific point\n",
        "$$ f'(c) = \\lim_{x\\to c} \\frac{f(x) - f(c)}{x - c} $$\n",
        "\n",
        "### Differentiability at a specific point\n",
        "\n",
        "Differentiability just means the limit in the definition of a derative exists at a point.\n",
        "\n",
        "Continuity at a point means\n",
        "$$ \\lim_{x\\to c}f(x) = f(c) $$\n",
        "\n",
        "Continuity is necessary, but not sufficient for differentiability.  Differentiability at a point requires that the limit works from both left and right of c.\n",
        "\n",
        "Proof that differentiability requires continuity.  Assume differentiability and:\n",
        "\n",
        "$$ \n",
        "\\begin{align*}\n",
        "& \\lim_{x\\to c}f(x) - f(c) \\\\\n",
        "& \\lim_{x\\to c} \\frac{(x-c)(f(x) -f(c))}{(x-c)} \\\\\n",
        "& \\lim_{x\\to c} (x-c) \\lim_{x\\to c} \\frac{(f(x) -f(c))}{(x-c)} \\quad\\text {Limit assumed to exist} \\\\\n",
        "& (0)\\lim_{x\\to c} \\frac{(f(x) -f(c))}{(x-c)} \\\\\n",
        "& \\lim_{x\\to c}(f(x) - f(c)) = 0 \\\\ \n",
        "& \\lim_{x\\to c}f(x) - \\lim_{x\\to c}f(c) = 0 \\\\\n",
        "& \\lim_{x\\to c}f(x) - f(c) = 0 \\\\\n",
        "& \\lim_{x\\to c}f(x) = f(c)\n",
        "\\end{align*} \n",
        "$$\n",
        "\n",
        "\n",
        "# Power Rule\n",
        "\n",
        "$$ \\frac{d}{dx}[x^n] = nx^{n-1} $$\n",
        "\n",
        "## Proof\n",
        "\n",
        "$$\n",
        "\\begin{align*}\n",
        "& \\frac{d}{dx}[x^n] \\\\\n",
        "& \\lim_{\\Delta x\\to0} \\frac{(x + \\Delta x)^n - x^n}{\\Delta x}  \\quad\\text {Definition of a Limit} \\\\\n",
        "& \\lim_{\\Delta x\\to0} \\frac{\\sum\\limits_{k=0}^{n}\\binom{n}{k}x^{n-k}\\Delta x^k) - x^n}{\\Delta x}  \\quad\\text {Binomial Theorem} \\\\\n",
        "& \\lim_{\\Delta x\\to0} \\frac{\\binom{n}{0}x^n \\Delta x^0 + \\sum\\limits_{k=1}^{n}\\binom{n}{k}x^{n-k}\\Delta x^k) - x^n}{\\Delta x} \\\\\n",
        "& \\lim_{\\Delta x\\to0} \\frac{\\sum\\limits_{k=1}^{n}\\binom{n}{k}x^{n-k}\\Delta x^k)}{\\Delta x} \\\\\n",
        "& \\lim_{\\Delta x\\to0} {\\sum\\limits_{k=1}^{n}\\binom{n}{k}x^{n-k}\\Delta x^{k-1})} \\\\\n",
        "& \\lim_{\\Delta x\\to0} \\binom{n}{1} x^{n-1}\\Delta x^{1-1} + (0) \\quad\\text {delta x is 0 factor for k>1} \\\\\n",
        "& \\lim_{\\Delta x\\to0} nx^{n-1} = nx^{n-1} \\\\\n",
        "\\end{align*} \n",
        "$$\n",
        "\n",
        "# Product Rule\n",
        "\n",
        "# Quotient Rule\n",
        "\n",
        "# Derivatives of Trig Functions\n",
        "See Trig Notebook for pre-req identities, unit circle, etc.\n",
        "\n",
        "\n",
        "# Chain Rule\n",
        "\n",
        "# Derivatives of $ e^x $ and $ ln(x) $\n",
        "(these use chain rule)\n",
        "\n"
      ]
    }
  ],
  "metadata": {
    "colab": {
      "collapsed_sections": [],
      "include_colab_link": true,
      "name": "Calculus.ipynb",
      "provenance": []
    },
    "interpreter": {
      "hash": "949777d72b0d2535278d3dc13498b2535136f6dfe0678499012e853ee9abcab1"
    },
    "kernelspec": {
      "display_name": "Python 3.9.2 64-bit",
      "name": "python3"
    },
    "language_info": {
      "name": "python",
      "version": "3.9.2"
    }
  },
  "nbformat": 4,
  "nbformat_minor": 0
}
