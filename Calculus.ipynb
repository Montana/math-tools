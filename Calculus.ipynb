{
  "cells": [
    {
      "cell_type": "markdown",
      "metadata": {
        "colab_type": "text",
        "id": "view-in-github"
      },
      "source": [
        "<a href=\"https://colab.research.google.com/github/bsgreenb/math-tools/blob/master/Calculus.ipynb\" target=\"_parent\"><img src=\"https://colab.research.google.com/assets/colab-badge.svg\" alt=\"Open In Colab\"/></a>"
      ]
    },
    {
      "cell_type": "markdown",
      "metadata": {
        "id": "90uOwIG4e31U"
      },
      "source": [
        "# Limits\n",
        "\n",
        "## Limit Properties\n",
        "\n",
        "[continya mapping out limit properties after done scribing log stuff]\n",
        "https://youtu.be/lSwsAFgWqR8\n",
        "\n",
        "Limit Sum Property\n",
        "\n",
        "Limit Product Property\n",
        "\n",
        "Limit Constant Multiple Property\n",
        "\n",
        "Limit Exponent Property\n",
        "\n",
        "\n",
        "^^ Basically all of these properties act in the way we'd naturally want/expect.\n",
        "\n",
        "[Prove the propertays]\n",
        "\n",
        "\n",
        "## \n",
        "\n",
        "# Defining $e$\n",
        "\n",
        "$$ \n",
        "\\lim_{n\\to\\infty} (1 + \\frac{1}{n})\n",
        "$$\n",
        "\n",
        "[cover ln facts as needed]\n",
        "\n",
        "# Derivatives\n",
        "\n",
        "## Definition as a function of x\n",
        "$$ f'(x) = \\lim_{\\Delta x\\to0} \\frac{f(x + \\Delta x) - f(x)}{\\Delta x} $$\n",
        "## Definition at a specific point\n",
        "$$ f'(c) = \\lim_{x\\to c} \\frac{f(x) - f(c)}{x - c} $$\n",
        "\n",
        "### Differentiability at a specific point\n",
        "\n",
        "Differentiability just means the limit in the definition of a derative exists at a point.\n",
        "\n",
        "Continuity at a point means\n",
        "$$ \\lim_{x\\to c}f(x) = f(c) $$\n",
        "\n",
        "Continuity is necessary, but not sufficient for differentiability.  Differentiability at a point requires that the limit works from both left and right of c.\n",
        "\n",
        "Proof that differentiability requires continuity.  Assume differentiability and:\n",
        "\n",
        "$$ \n",
        "\\begin{align*}\n",
        "& \\lim_{x\\to c}f(x) - f(c) \\\\\n",
        "& \\lim_{x\\to c} \\frac{(x-c)(f(x) -f(c))}{(x-c)} \\\\\n",
        "& \\lim_{x\\to c} (x-c) \\lim_{x\\to c} \\frac{(f(x) -f(c))}{(x-c)} \\quad\\text {Limit assumed to exist} \\\\\n",
        "& (0)\\lim_{x\\to c} \\frac{(f(x) -f(c))}{(x-c)} \\\\\n",
        "& \\lim_{x\\to c}(f(x) - f(c)) = 0 \\\\ \n",
        "& \\lim_{x\\to c}f(x) - \\lim_{x\\to c}f(c) = 0 \\\\\n",
        "& \\lim_{x\\to c}f(x) - f(c) = 0 \\\\\n",
        "& \\lim_{x\\to c}f(x) = f(c)\n",
        "\\end{align*} \n",
        "$$\n",
        "\n",
        "\n",
        "# Power Rule\n",
        "\n",
        "$$ \\frac{d}{dx}[x^n] = nx^{n-1} $$\n",
        "\n",
        "## Proof\n",
        "\n",
        "$$\n",
        "\\begin{align*}\n",
        "& \\frac{d}{dx}[x^n] \\\\\n",
        "& \\lim_{\\Delta x\\to0} \\frac{(x + \\Delta x)^n - x^n}{\\Delta x}  \\quad\\text {Definition of a Limit} \\\\\n",
        "& \\lim_{\\Delta x\\to0} \\frac{\\sum\\limits_{k=0}^{n}\\binom{n}{k}x^{n-k}\\Delta x^k) - x^n}{\\Delta x}  \\quad\\text {Binomial Theorem} \\\\\n",
        "& \\lim_{\\Delta x\\to0} \\frac{\\binom{n}{0}x^n \\Delta x^0 + \\sum\\limits_{k=1}^{n}\\binom{n}{k}x^{n-k}\\Delta x^k) - x^n}{\\Delta x} \\\\\n",
        "& \\lim_{\\Delta x\\to0} \\frac{\\sum\\limits_{k=1}^{n}\\binom{n}{k}x^{n-k}\\Delta x^k)}{\\Delta x} \\\\\n",
        "& \\lim_{\\Delta x\\to0} {\\sum\\limits_{k=1}^{n}\\binom{n}{k}x^{n-k}\\Delta x^{k-1})} \\\\\n",
        "& \\lim_{\\Delta x\\to0} \\binom{n}{1} x^{n-1}\\Delta x^{1-1} + (0) \\quad\\text {delta x is 0 factor for k>1} \\\\\n",
        "& \\lim_{\\Delta x\\to0} nx^{n-1} = nx^{n-1} \\\\\n",
        "\\end{align*} \n",
        "$$\n",
        "\n",
        "# Product Rule\n",
        "\n",
        "# Quotient Rule\n",
        "\n",
        "# Derivatives of Trig Functions\n",
        "See Trig Notebook for pre-req identities, unit circle, etc.\n",
        "\n",
        "\n",
        "# Chain Rule\n",
        "\n",
        "# Derivatives of $ e^x $ and $ ln(x) $\n",
        "(these use chain rule)\n",
        "\n"
      ]
    }
  ],
  "metadata": {
    "colab": {
      "authorship_tag": "ABX9TyNhKan/d1v3YRJ6/SvktZDD",
      "collapsed_sections": [],
      "include_colab_link": true,
      "name": "Calculus.ipynb",
      "provenance": []
    },
    "interpreter": {
      "hash": "949777d72b0d2535278d3dc13498b2535136f6dfe0678499012e853ee9abcab1"
    },
    "kernelspec": {
      "display_name": "Python 3.9.2 64-bit",
      "name": "python3"
    },
    "language_info": {
      "name": "python",
      "version": "3.9.2"
    }
  },
  "nbformat": 4,
  "nbformat_minor": 0
}
