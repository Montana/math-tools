{
 "cells": [
  {
   "cell_type": "markdown",
   "metadata": {},
   "source": [
    "Finding areas under a curve has been developed since antiquity, but Integrals give us a calculus for it.  \n",
    "\n",
    "# Accumulation of change\n",
    "\n",
    "Whereas derivatives deal in rate of change, integrals are about accumulation of change.  You integrate the rate of change to get the net change in that quantity.  \n",
    "\n",
    "Note that integrals give the net change, not the quantity.  It would depend on the starting value, which the integral wouldn't care about.  \n",
    "  \n",
    "# Riemann Sums\n",
    "\n",
    "**Riemann Sums** are used to approximate areas.  But if we take Riemann Sums with infinite rectangles of infinitely small width, we get the exact area, i.e. the definite integral.\n",
    "\n",
    "[write out equation \n",
    "\n",
    "# Definite Integrals\n",
    "Whereas we used derivatives to go from quantity $f$ to rate $f'$, we can use integrals to go from rate $f$ to quantity $F$.  Covering definite integrals first, and indefinite after.. the order I learned on Khan.\n",
    "\n",
    "## Definition of Definite Integral\n",
    "The area under a function $f(x)$ between $x=a$ and $x=b$:\n",
    "\n",
    "$$\n",
    "\\sum_{i=1}^{n}\\Delta x_i = \\int_{a}^{b} f(x)\\, dx\n",
    "$$\n",
    "\n",
    "Note that the bounds $a$ and $b$ emerge because $\\Delta x = \\frac{b-a}{n}$\n"
   ]
  }
 ],
 "metadata": {
  "interpreter": {
   "hash": "949777d72b0d2535278d3dc13498b2535136f6dfe0678499012e853ee9abcab1"
  },
  "kernelspec": {
   "display_name": "Python 3.9.2 64-bit",
   "language": "python",
   "name": "python3"
  },
  "language_info": {
   "name": "python",
   "version": "3.9.2"
  },
  "orig_nbformat": 4
 },
 "nbformat": 4,
 "nbformat_minor": 2
}
