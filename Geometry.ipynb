{
  "cells": [
    {
      "cell_type": "markdown",
      "metadata": {
        "colab_type": "text",
        "id": "view-in-github"
      },
      "source": [
        "<a href=\"https://colab.research.google.com/github/bsgreenb/math-tools/blob/master/Geometry.ipynb\" target=\"_parent\"><img src=\"https://colab.research.google.com/assets/colab-badge.svg\" alt=\"Open In Colab\"/></a>"
      ]
    },
    {
      "cell_type": "markdown",
      "metadata": {
        "id": "HHQ7gQxyp7Oa"
      },
      "source": [
        "# Primitive Notions\n",
        "\n",
        "Points ($ A $), Lines ($ \\overleftrightarrow{AB} $), Line Segments ($ \\overline{\\rm AB} $), Rays ($ \\overrightarrow{AB} $).  Lines can be parallel ($ A \\parallel B $)\n",
        "\n",
        "The notation for line-length is just the points like $ AB $ , to distinguish it from line segment itself.. \n"
      ]
    },
    {
      "cell_type": "code",
      "execution_count": 2,
      "metadata": {
        "id": "BmTCZZSSpyWG"
      },
      "outputs": [
        {
          "data": {
            "image/png": "[encoded data removed]",
            "text/plain": [
              "<Figure size 432x288 with 1 Axes>"
            ]
          },
          "metadata": {
            "needs_background": "light"
          },
          "output_type": "display_data"
        }
      ],
      "source": [
        "import matplotlib.pyplot as plt\n",
        "import matplotlib\n",
        "import numpy as np\n",
        "\n",
        "\n",
        "try:\n",
        "  import google.colab\n",
        "  import sys\n",
        "  from os import path\n",
        "  # We are in colab\n",
        "\n",
        "  if not path.isdir('math-tools'):\n",
        "    !git clone https://github.com/bsgreenb/math-tools.git\n",
        "    sys.path.append('math-tools')\n",
        "  from latex import *\n",
        "except:\n",
        "  from latex import *\n",
        "\n",
        "def label(text, coords):\n",
        "  plt.annotate(text, # this is the text\n",
        "                 coords, # these are the coordinates to position the label\n",
        "                 textcoords=\"offset points\", # how to position the text\n",
        "                 xytext=(0,10), # distance from text to points (x,y)\n",
        "                 ha='center') # horizontal alignment can be left, right or center\n",
        "\n",
        "# Plot a line with arrows on both ends\n",
        "def plotLine(plt, start, end, txt= None):\n",
        "  plt.annotate(text='', xy=end, xytext=start, arrowprops=dict(arrowstyle='<->'))\n",
        "  if txt:\n",
        "    label(txt, end)\n",
        "\n",
        "#TODO: add a plotted line here\n",
        "\n",
        "plt.plot([1, 2], [3, 4], marker = 'o')  \n",
        "plt.plot([1.5], [4], marker='o', color='C0')\n",
        "plt.axis('off')\n",
        "label('A',(1,3))\n",
        "label('B',(2,4))\n",
        "label('C',(1.5,4))\n",
        "\n",
        "plt.show()"
      ]
    },
    {
      "cell_type": "markdown",
      "metadata": {
        "id": "LrMIHOSTRPuL"
      },
      "source": [
        "# Axioms\n",
        "\n",
        "There are lots of these, just going to note the ones I use in later proofs\n",
        "\n",
        "## Corresponding Angles Axiom\n",
        "\n",
        "If a transversal ($ n $) intersects two parallel lines ($ l \\parallel m $), then each pair of corresponding angles are congruent ($ \\angle 1 \\cong \\angle 2 $)."
      ]
    },
    {
      "cell_type": "code",
      "execution_count": 2,
      "metadata": {
        "id": "TFKjFUEJUMb1"
      },
      "outputs": [
        {
          "data": {
            "image/png": "[encoded data removed]",
            "text/plain": [
              "<Figure size 432x288 with 1 Axes>"
            ]
          },
          "metadata": {
            "needs_background": "light"
          },
          "output_type": "display_data"
        }
      ],
      "source": [
        "# QSTN: how can I make my imports and common functions automatically run at start?\n",
        "\n",
        "plotLine(plt, (1,2), (3,6), r\"$ l $\")\n",
        "plotLine(plt, (1,3), (3,7), r\"$ m $\")\n",
        "\n",
        "plotLine(plt, (1, 4.5), (3, 4.5), r\"$ n $\")\n",
        "\n",
        "# QSTN: setting limits properly is challenging\n",
        "plt.xlim(0, 6)\n",
        "plt.ylim(0, 7)\n",
        "plt.axis('off')\n",
        "plt.show()\n"
      ]
    },
    {
      "cell_type": "markdown",
      "metadata": {
        "id": "Pc2kg2w6UK5Z"
      },
      "source": [
        "Converse is also true: if a transversal through two lines creates a pair of corresponding angle, then the lines are parallel."
      ]
    }
  ],
  "metadata": {
    "colab": {
      "authorship_tag": "ABX9TyPLZDxPkmU1iu+Llfm6JrwE",
      "collapsed_sections": [],
      "include_colab_link": true,
      "name": "Geometry.ipynb",
      "provenance": []
    },
    "interpreter": {
      "hash": "949777d72b0d2535278d3dc13498b2535136f6dfe0678499012e853ee9abcab1"
    },
    "kernelspec": {
      "display_name": "Python 3.9.2 64-bit",
      "name": "python3"
    },
    "language_info": {
      "codemirror_mode": {
        "name": "ipython",
        "version": 3
      },
      "file_extension": ".py",
      "mimetype": "text/x-python",
      "name": "python",
      "nbconvert_exporter": "python",
      "pygments_lexer": "ipython3",
      "version": "3.9.2"
    }
  },
  "nbformat": 4,
  "nbformat_minor": 0
}
