{
  "cells": [
    {
      "cell_type": "markdown",
      "metadata": {
        "colab_type": "text",
        "id": "view-in-github"
      },
      "source": [
        "<a href=\"https://colab.research.google.com/github/bsgreenb/math-tools/blob/master/Geometry.ipynb\" target=\"_parent\"><img src=\"https://colab.research.google.com/assets/colab-badge.svg\" alt=\"Open In Colab\"/></a>"
      ]
    },
    {
      "cell_type": "markdown",
      "metadata": {
        "id": "HHQ7gQxyp7Oa"
      },
      "source": [
        "# Primitive Notions\n",
        "\n",
        "Points ($ A $), Lines ($ \\overleftrightarrow{AB} $), Line Segments ($ \\overline{\\rm AB} $), Rays ($ \\overrightarrow{AB} $).  Lines can be parallel ($ A \\parallel B $)\n",
        "\n",
        "The notation for line-length is just the points like $ AB $ , to distinguish it from line segment itself.. \n"
      ]
    },
    {
      "cell_type": "code",
      "execution_count": 13,
      "metadata": {
        "id": "BmTCZZSSpyWG"
      },
      "outputs": [
        {
          "data": {
            "image/png": "[encoded data removed]",
            "text/plain": [
              "<Figure size 432x288 with 1 Axes>"
            ]
          },
          "metadata": {
            "needs_background": "light"
          },
          "output_type": "display_data"
        }
      ],
      "source": [
        "import matplotlib.pyplot as plt\n",
        "import matplotlib\n",
        "import numpy as np\n",
        "\n",
        "\n",
        "try:\n",
        "  import google.colab\n",
        "  import sys\n",
        "  from os import path\n",
        "  # We are in colab\n",
        "\n",
        "  if not path.isdir('math-tools'):\n",
        "    !git clone https://github.com/bsgreenb/math-tools.git\n",
        "    sys.path.append('math-tools')\n",
        "except:\n",
        "  pass\n",
        "\n",
        "from geometry import plot_line\n",
        "from annotation import label\n",
        "from angles import AngleAnnotation\n",
        "\n",
        "#TODO: add a plotted line here\n",
        "\n",
        "plt.plot([1, 2], [3, 4], marker = 'o')  \n",
        "plt.plot([1.5], [4], marker='o', color='C0')\n",
        "plt.axis('off')\n",
        "label(plt, 'A',(1,3))\n",
        "label(plt, 'B',(2,4))\n",
        "label(plt, 'C',(1.5,4))\n",
        "\n",
        "plt.show()"
      ]
    },
    {
      "cell_type": "markdown",
      "metadata": {
        "id": "LrMIHOSTRPuL"
      },
      "source": [
        "# Axioms\n",
        "\n",
        "There are lots of these, just going to note the ones I use in later proofs\n",
        "\n",
        "## Corresponding Angles Axiom\n",
        "\n",
        "If a transversal ($ n $) intersects two parallel lines ($ l \\parallel m $), then each pair of corresponding angles are congruent ($ \\angle 1 \\cong \\angle 2 $)."
      ]
    },
    {
      "cell_type": "code",
      "execution_count": 17,
      "metadata": {
        "id": "TFKjFUEJUMb1"
      },
      "outputs": [
        {
          "data": {
            "image/png": "[encoded data removed]",
            "text/plain": [
              "<Figure size 432x288 with 1 Axes>"
            ]
          },
          "metadata": {
            "needs_background": "light"
          },
          "output_type": "display_data"
        }
      ],
      "source": [
        "from angles import AngleAnnotation\n",
        "from geometry import plot_parallel\n",
        "\n",
        "fig, ax = plt.subplots()\n",
        "\n",
        "p1 = (1,2)\n",
        "p2 = (3,6)\n",
        "plot_parallel(ax, p1, (2.6, 5.2), (2.75, 5.5), \"red\")\n",
        "plot_line(ax, p1, p2, r\"$ l $\")\n",
        "p3 = (1,3)\n",
        "p4 = (3,7)\n",
        "plot_line(ax, p3, p4, r\"$ m $\")\n",
        "plot_parallel(ax, p3, (2.6, 6.2), (2.75, 6.5), \"red\")\n",
        "# t points are for the transversal straight line\n",
        "t1 = (1, 4.5)\n",
        "t2 = (3, 4.5)\n",
        "plot_line(ax, t1, t2, r\"$ n $\")\n",
        "\n",
        "# This meets with l at x = 2.25 and m and x = 1.75.  both ys are 4.5 obvi\n",
        "first_angle_location = (2.25, 4.5)\n",
        "second_angle_location = (1.75, 4.5)\n",
        "\n",
        "angle_1 = AngleAnnotation(first_angle_location, p2, t1, ax=ax, size=20, text=r\"$1$\", text_kw={\"color\": \"C0\"}, color=\"C0\")\n",
        "angle_2 = AngleAnnotation(second_angle_location, p4, t1, ax=ax, size=20, text=r\"$2$\", text_kw={\"color\": \"C0\"}, color=\"C0\")\n",
        "\n",
        "plt.xlim(0, 6)\n",
        "plt.ylim(0, 7)\n",
        "plt.axis('off')\n",
        "plt.show()\n",
        "\n"
      ]
    },
    {
      "cell_type": "markdown",
      "metadata": {
        "id": "Pc2kg2w6UK5Z"
      },
      "source": [
        "Converse is also true: if a transversal through two lines creates a pair of corresponding angle, then the lines are parallel."
      ]
    },
    {
      "cell_type": "markdown",
      "metadata": {},
      "source": [
        "# Pythagorean Theorem Proof\n",
        "\n",
        "Two major approaches to proving it, area based by constructing a composite polygon, or slicing/similarity based and solving from ratios.\n",
        "\n",
        "Let's just show the easiest one to remember, Garfield's proof using a composite trapezoid."
      ]
    },
    {
      "cell_type": "code",
      "execution_count": 75,
      "metadata": {},
      "outputs": [
        {
          "data": {
            "text/plain": [
              "(0.0, 7.0, 0.0, 7.0)"
            ]
          },
          "execution_count": 75,
          "metadata": {},
          "output_type": "execute_result"
        },
        {
          "data": {
            "image/png": "[encoded data removed]",
            "text/plain": [
              "<Figure size 432x288 with 1 Axes>"
            ]
          },
          "metadata": {
            "needs_background": "light"
          },
          "output_type": "display_data"
        }
      ],
      "source": [
        "from matplotlib.patches import Polygon\n",
        "\n",
        "# 3/4/5 is the smalled pythagorean triple\n",
        "side_a_length = 3\n",
        "side_b_length = 4\n",
        "hypotenuse = 5\n",
        "\n",
        "triangle1 = Polygon([(0,0), (0, side_a_length), (side_b_length, 0)], ec=\"black\", fc=[0,0,0,0])\n",
        "fig, ax = plt.subplots()\n",
        "\n",
        "ax.add_patch(triangle1)\n",
        "# Don't add repeating lines for the other triangles\n",
        "line_width = .75\n",
        "ax.plot([0, 0], [side_a_length, side_a_length + side_b_length], color=\"black\", lw=line_width)\n",
        "ax.plot([0,side_a_length], [side_a_length + side_b_length, side_a_length + side_b_length], color=\"black\", lw=line_width)\n",
        "ax.plot([side_a_length, 0], [side_a_length + side_b_length, side_a_length], color=\"black\", lw=line_width)\n",
        "ax.plot([side_a_length, side_b_length], [side_a_length + side_b_length, 0], color=\"black\", lw=line_width)\n",
        "\n",
        "plt.ylim(0,7)\n",
        "plt.xlim(0,7)\n",
        "\n",
        "plt.axis('off')\n",
        "plt.show()"
      ]
    }
  ],
  "metadata": {
    "colab": {
      "authorship_tag": "ABX9TyPLZDxPkmU1iu+Llfm6JrwE",
      "collapsed_sections": [],
      "include_colab_link": true,
      "name": "Geometry.ipynb",
      "provenance": []
    },
    "interpreter": {
      "hash": "949777d72b0d2535278d3dc13498b2535136f6dfe0678499012e853ee9abcab1"
    },
    "kernelspec": {
      "display_name": "Python 3.9.2 64-bit",
      "name": "python3"
    },
    "language_info": {
      "codemirror_mode": {
        "name": "ipython",
        "version": 3
      },
      "file_extension": ".py",
      "mimetype": "text/x-python",
      "name": "python",
      "nbconvert_exporter": "python",
      "pygments_lexer": "ipython3",
      "version": "3.9.2"
    }
  },
  "nbformat": 4,
  "nbformat_minor": 0
}
